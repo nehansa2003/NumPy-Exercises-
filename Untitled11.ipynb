{
  "nbformat": 4,
  "nbformat_minor": 0,
  "metadata": {
    "colab": {
      "provenance": [],
      "authorship_tag": "ABX9TyOmK8dJZ7iR0Em8N7XnwUhd",
      "include_colab_link": true
    },
    "kernelspec": {
      "name": "python3",
      "display_name": "Python 3"
    },
    "language_info": {
      "name": "python"
    }
  },
  "cells": [
    {
      "cell_type": "markdown",
      "metadata": {
        "id": "view-in-github",
        "colab_type": "text"
      },
      "source": [
        "<a href=\"https://colab.research.google.com/github/nehansa2003/NumPy-Exercises-/blob/main/Untitled11.ipynb\" target=\"_parent\"><img src=\"https://colab.research.google.com/assets/colab-badge.svg\" alt=\"Open In Colab\"/></a>"
      ]
    },
    {
      "cell_type": "code",
      "execution_count": 2,
      "metadata": {
        "colab": {
          "base_uri": "https://localhost:8080/"
        },
        "id": "h60DZraGr4tQ",
        "outputId": "f7f5907c-14ec-4de4-8419-d9c05e2be9a3"
      },
      "outputs": [
        {
          "output_type": "stream",
          "name": "stdout",
          "text": [
            "[0 1 2 3 4 5 6 7 8 9]\n"
          ]
        }
      ],
      "source": [
        "import numpy as np\n",
        "\n",
        "arr = np.arange(10)\n",
        "print(arr)"
      ]
    },
    {
      "cell_type": "code",
      "source": [
        "arr_1=np.arange(16)\n",
        "print(\"Original array:\",arr_1)\n",
        "#then rearrange the array as 4 x 4 2D array\n",
        "arr_2=arr_1.reshape(4,4)\n",
        "print(\"2D array :\")\n",
        "print(arr_2)"
      ],
      "metadata": {
        "colab": {
          "base_uri": "https://localhost:8080/"
        },
        "id": "W9MkzmGwskB-",
        "outputId": "812744b3-f055-4e29-cbd0-09ae1c74ebbd"
      },
      "execution_count": 3,
      "outputs": [
        {
          "output_type": "stream",
          "name": "stdout",
          "text": [
            "Original array: [ 0  1  2  3  4  5  6  7  8  9 10 11 12 13 14 15]\n",
            "2D array :\n",
            "[[ 0  1  2  3]\n",
            " [ 4  5  6  7]\n",
            " [ 8  9 10 11]\n",
            " [12 13 14 15]]\n"
          ]
        }
      ]
    },
    {
      "cell_type": "code",
      "source": [
        "my_array = np.array([[1, 2], [3, 4], [5, 6], [7, 8]], dtype=np.uint16)\n",
        "print(my_array)\n",
        "print(\"The shape of the array is\",my_array.shape)\n",
        "print(\"The dimention of the array is\",my_array.ndim)\n",
        "print(\"The size if the array is\",my_array.itemsize)"
      ],
      "metadata": {
        "colab": {
          "base_uri": "https://localhost:8080/"
        },
        "id": "gA4PCpk2tmk9",
        "outputId": "21a3cec2-a0cd-4fc7-bb4e-f9eaa519a054"
      },
      "execution_count": 4,
      "outputs": [
        {
          "output_type": "stream",
          "name": "stdout",
          "text": [
            "[[1 2]\n",
            " [3 4]\n",
            " [5 6]\n",
            " [7 8]]\n",
            "The shape of the array is (4, 2)\n",
            "The dimention of the array is 2\n",
            "The size if the array is 2\n"
          ]
        }
      ]
    },
    {
      "cell_type": "markdown",
      "source": [
        "np.array() converts a Python list into a NumPy array. This allows efficient mathematical operations.\n",
        "                                                      dtype → data type of the array elements.\n",
        "\n",
        "np.uint16 → \"unsigned integer, 16-bit\".                                        Unsigned → values cannot be negative (only 0 and positive numbers are allowed).\n",
        "\n",
        "16-bit → each number is stored using 16 bits (2 bytes).\n",
        "\n",
        "Range → 0 to 65535 (because (2^16)−1=65535)."
      ],
      "metadata": {
        "id": "GD8HEOlov6Gs"
      }
    },
    {
      "cell_type": "code",
      "source": [
        "arr = np.ones((3, 3), dtype=bool)\n",
        "print(arr)"
      ],
      "metadata": {
        "colab": {
          "base_uri": "https://localhost:8080/"
        },
        "id": "Y9f54hOGvcYX",
        "outputId": "642f8c57-ef0a-4827-d913-ecc00767f34e"
      },
      "execution_count": 5,
      "outputs": [
        {
          "output_type": "stream",
          "name": "stdout",
          "text": [
            "[[ True  True  True]\n",
            " [ True  True  True]\n",
            " [ True  True  True]]\n"
          ]
        }
      ]
    },
    {
      "cell_type": "markdown",
      "source": [
        "**np.ones((3, 3), ...)**\n",
        "\n",
        "Creates a 3×3 NumPy array.\n",
        "\n",
        "All elements are initially filled with the number 1.\n",
        "\n",
        "**dtype=bool**\n",
        "\n",
        "This forces the array elements to be stored as boolean values (True / False).\n",
        "\n",
        "In NumPy, any nonzero number (like 1) is automatically interpreted as True.\n",
        "\n",
        "If the fill value were 0, it would become False."
      ],
      "metadata": {
        "id": "E5K6EPPjy_WP"
      }
    },
    {
      "cell_type": "code",
      "source": [
        "my_array = np.full((3, 3), True, dtype=bool)\n",
        "\n",
        "print(my_array)\n",
        "print(\"Data type:\", my_array.dtype)"
      ],
      "metadata": {
        "colab": {
          "base_uri": "https://localhost:8080/"
        },
        "id": "LZ0ObYTkzYDB",
        "outputId": "82e2160e-2edf-4373-c71c-78c6aa83ec14"
      },
      "execution_count": 6,
      "outputs": [
        {
          "output_type": "stream",
          "name": "stdout",
          "text": [
            "[[ True  True  True]\n",
            " [ True  True  True]\n",
            " [ True  True  True]]\n",
            "Data type: bool\n"
          ]
        }
      ]
    },
    {
      "cell_type": "markdown",
      "source": [
        "The np.full() function is a powerful way to create an array of any given shape filled with a specific value."
      ],
      "metadata": {
        "id": "kSa184NHz8yE"
      }
    },
    {
      "cell_type": "code",
      "source": [
        "from ast import Str\n",
        "#Another example to no.full and np.ones with different dtypes\n",
        "ARR_1=np.ones((4,4),dtype=int)\n",
        "print(ARR_1)\n",
        "print(\"\\n\")\n",
        "ARR_2=np.full((4,3),\"Nehansa\", dtype=Str)\n",
        "print(ARR_2)"
      ],
      "metadata": {
        "colab": {
          "base_uri": "https://localhost:8080/"
        },
        "id": "XjIlgiNKz-xI",
        "outputId": "c5bf70e5-40bf-48c4-a624-b1802b85932f"
      },
      "execution_count": 7,
      "outputs": [
        {
          "output_type": "stream",
          "name": "stdout",
          "text": [
            "[[1 1 1 1]\n",
            " [1 1 1 1]\n",
            " [1 1 1 1]\n",
            " [1 1 1 1]]\n",
            "\n",
            "\n",
            "[['Nehansa' 'Nehansa' 'Nehansa']\n",
            " ['Nehansa' 'Nehansa' 'Nehansa']\n",
            " ['Nehansa' 'Nehansa' 'Nehansa']\n",
            " ['Nehansa' 'Nehansa' 'Nehansa']]\n"
          ]
        },
        {
          "output_type": "stream",
          "name": "stderr",
          "text": [
            "/tmp/ipython-input-1911749713.py:1: DeprecationWarning: ast.Str is deprecated and will be removed in Python 3.14; use ast.Constant instead\n",
            "  from ast import Str\n"
          ]
        }
      ]
    },
    {
      "cell_type": "code",
      "source": [
        "print(np.info(np.arange))"
      ],
      "metadata": {
        "colab": {
          "base_uri": "https://localhost:8080/"
        },
        "id": "WhcD1HIX1edf",
        "outputId": "c5865f03-7018-4cd3-c11f-4ad71ece812f"
      },
      "execution_count": 8,
      "outputs": [
        {
          "output_type": "stream",
          "name": "stdout",
          "text": [
            "arange([start,] stop[, step,], dtype=None, *, device=None, like=None)\n",
            "\n",
            "Return evenly spaced values within a given interval.\n",
            "\n",
            "``arange`` can be called with a varying number of positional arguments:\n",
            "\n",
            "* ``arange(stop)``: Values are generated within the half-open interval\n",
            "  ``[0, stop)`` (in other words, the interval including `start` but\n",
            "  excluding `stop`).\n",
            "* ``arange(start, stop)``: Values are generated within the half-open\n",
            "  interval ``[start, stop)``.\n",
            "* ``arange(start, stop, step)`` Values are generated within the half-open\n",
            "  interval ``[start, stop)``, with spacing between values given by\n",
            "  ``step``.\n",
            "\n",
            "For integer arguments the function is roughly equivalent to the Python\n",
            "built-in :py:class:`range`, but returns an ndarray rather than a ``range``\n",
            "instance.\n",
            "\n",
            "When using a non-integer step, such as 0.1, it is often better to use\n",
            "`numpy.linspace`.\n",
            "\n",
            "See the Warning sections below for more information.\n",
            "\n",
            "Parameters\n",
            "----------\n",
            "start : integer or real, optional\n",
            "    Start of interval.  The interval includes this value.  The default\n",
            "    start value is 0.\n",
            "stop : integer or real\n",
            "    End of interval.  The interval does not include this value, except\n",
            "    in some cases where `step` is not an integer and floating point\n",
            "    round-off affects the length of `out`.\n",
            "step : integer or real, optional\n",
            "    Spacing between values.  For any output `out`, this is the distance\n",
            "    between two adjacent values, ``out[i+1] - out[i]``.  The default\n",
            "    step size is 1.  If `step` is specified as a position argument,\n",
            "    `start` must also be given.\n",
            "dtype : dtype, optional\n",
            "    The type of the output array.  If `dtype` is not given, infer the data\n",
            "    type from the other input arguments.\n",
            "device : str, optional\n",
            "    The device on which to place the created array. Default: None.\n",
            "    For Array-API interoperability only, so must be ``\"cpu\"`` if passed.\n",
            "\n",
            "    .. versionadded:: 2.0.0\n",
            "like : array_like, optional\n",
            "    Reference object to allow the creation of arrays which are not\n",
            "    NumPy arrays. If an array-like passed in as ``like`` supports\n",
            "    the ``__array_function__`` protocol, the result will be defined\n",
            "    by it. In this case, it ensures the creation of an array object\n",
            "    compatible with that passed in via this argument.\n",
            "\n",
            "    .. versionadded:: 1.20.0\n",
            "\n",
            "Returns\n",
            "-------\n",
            "arange : ndarray\n",
            "    Array of evenly spaced values.\n",
            "\n",
            "    For floating point arguments, the length of the result is\n",
            "    ``ceil((stop - start)/step)``.  Because of floating point overflow,\n",
            "    this rule may result in the last element of `out` being greater\n",
            "    than `stop`.\n",
            "\n",
            "Warnings\n",
            "--------\n",
            "The length of the output might not be numerically stable.\n",
            "\n",
            "Another stability issue is due to the internal implementation of\n",
            "`numpy.arange`.\n",
            "The actual step value used to populate the array is\n",
            "``dtype(start + step) - dtype(start)`` and not `step`. Precision loss\n",
            "can occur here, due to casting or due to using floating points when\n",
            "`start` is much larger than `step`. This can lead to unexpected\n",
            "behaviour. For example::\n",
            "\n",
            "  >>> np.arange(0, 5, 0.5, dtype=int)\n",
            "  array([0, 0, 0, 0, 0, 0, 0, 0, 0, 0])\n",
            "  >>> np.arange(-3, 3, 0.5, dtype=int)\n",
            "  array([-3, -2, -1,  0,  1,  2,  3,  4,  5,  6,  7,  8])\n",
            "\n",
            "In such cases, the use of `numpy.linspace` should be preferred.\n",
            "\n",
            "The built-in :py:class:`range` generates :std:doc:`Python built-in integers\n",
            "that have arbitrary size <python:c-api/long>`, while `numpy.arange`\n",
            "produces `numpy.int32` or `numpy.int64` numbers. This may result in\n",
            "incorrect results for large integer values::\n",
            "\n",
            "  >>> power = 40\n",
            "  >>> modulo = 10000\n",
            "  >>> x1 = [(n ** power) % modulo for n in range(8)]\n",
            "  >>> x2 = [(n ** power) % modulo for n in np.arange(8)]\n",
            "  >>> print(x1)\n",
            "  [0, 1, 7776, 8801, 6176, 625, 6576, 4001]  # correct\n",
            "  >>> print(x2)\n",
            "  [0, 1, 7776, 7185, 0, 5969, 4816, 3361]  # incorrect\n",
            "\n",
            "See Also\n",
            "--------\n",
            "numpy.linspace : Evenly spaced numbers with careful handling of endpoints.\n",
            "numpy.ogrid: Arrays of evenly spaced numbers in N-dimensions.\n",
            "numpy.mgrid: Grid-shaped arrays of evenly spaced numbers in N-dimensions.\n",
            ":ref:`how-to-partition`\n",
            "\n",
            "Examples\n",
            "--------\n",
            ">>> np.arange(3)\n",
            "array([0, 1, 2])\n",
            ">>> np.arange(3.0)\n",
            "array([ 0.,  1.,  2.])\n",
            ">>> np.arange(3,7)\n",
            "array([3, 4, 5, 6])\n",
            ">>> np.arange(3,7,2)\n",
            "array([3, 5])\n",
            "None\n"
          ]
        }
      ]
    },
    {
      "cell_type": "markdown",
      "source": [
        "**np.arange**\n",
        "\n",
        "This is a NumPy function that creates arrays with regularly spaced values (like Python’s range() but returns a NumPy array).                                   Ex: np.arange(2, 10, 2)  # [2 4 6 8]\n",
        "\n",
        "**np.info(...)**\n",
        "\n",
        "This displays the documentation (docstring) of a NumPy object (function, class, method, etc.).\n",
        "It tells you what the function does, its parameters, return type, and examples."
      ],
      "metadata": {
        "id": "ek17cTel2pEN"
      }
    },
    {
      "cell_type": "code",
      "source": [
        "#method 1\n",
        "arr_3=np.full((1,5),0,dtype=int)\n",
        "print(\"Zeros from method 1:\",arr_3)\n",
        "\n",
        "#Method 2\n",
        "arr_4=np.zeros((1,5),dtype=int)\n",
        "print(\"Zeros from method 2:\",arr_4)\n",
        "\n",
        "#Likewise getting ones\n",
        "arr_5=np.ones((1,5),dtype=int)\n",
        "print(\"Ones from method 1:\",arr_5)\n",
        "\n",
        "#"
      ],
      "metadata": {
        "colab": {
          "base_uri": "https://localhost:8080/"
        },
        "id": "P3zIBqt33NDl",
        "outputId": "516772dc-b04c-452b-9f29-56b8cd0ba6fb"
      },
      "execution_count": 9,
      "outputs": [
        {
          "output_type": "stream",
          "name": "stdout",
          "text": [
            "Zeros from method 1: [[0 0 0 0 0]]\n",
            "Zeros from method 2: [[0 0 0 0 0]]\n",
            "Ones from method 1: [[1 1 1 1 1]]\n"
          ]
        }
      ]
    },
    {
      "cell_type": "code",
      "source": [
        "arr_4=np.linspace(5,50,10)\n",
        "print(arr_4)"
      ],
      "metadata": {
        "colab": {
          "base_uri": "https://localhost:8080/"
        },
        "id": "sfQMXQ5c99Em",
        "outputId": "1ffeeb9a-a516-4480-c0f0-dd4d87df444c"
      },
      "execution_count": 11,
      "outputs": [
        {
          "output_type": "stream",
          "name": "stdout",
          "text": [
            "[ 5. 10. 15. 20. 25. 30. 35. 40. 45. 50.]\n"
          ]
        }
      ]
    },
    {
      "cell_type": "code",
      "source": [
        "list_1=[1,2,3,4,5]\n",
        "np.array(list_1)"
      ],
      "metadata": {
        "id": "zAYm50sNDiZZ",
        "outputId": "f70371bc-1812-4836-b2f5-e4d7c378e628",
        "colab": {
          "base_uri": "https://localhost:8080/"
        }
      },
      "execution_count": 12,
      "outputs": [
        {
          "output_type": "execute_result",
          "data": {
            "text/plain": [
              "array([1, 2, 3, 4, 5])"
            ]
          },
          "metadata": {},
          "execution_count": 12
        }
      ]
    },
    {
      "cell_type": "markdown",
      "source": [],
      "metadata": {
        "id": "fhrD21v8DQLt"
      }
    },
    {
      "cell_type": "code",
      "source": [
        "array_5=np.arange(10)\n",
        "print(\"Array is\",array_5)\n",
        "print(\"Memory size of the array is\",array_5.nbytes)"
      ],
      "metadata": {
        "id": "MjKpsb8dDzxg",
        "outputId": "e59967a5-0b4a-46f7-dea3-9d01575dc658",
        "colab": {
          "base_uri": "https://localhost:8080/"
        }
      },
      "execution_count": 15,
      "outputs": [
        {
          "output_type": "stream",
          "name": "stdout",
          "text": [
            "Array is [0 1 2 3 4 5 6 7 8 9]\n",
            "Memory size of the array is 80\n"
          ]
        }
      ]
    }
  ]
}