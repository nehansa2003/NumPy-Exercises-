{
  "nbformat": 4,
  "nbformat_minor": 0,
  "metadata": {
    "colab": {
      "provenance": [],
      "authorship_tag": "ABX9TyMJu3DA03c/IcumQ/A1b4uo",
      "include_colab_link": true
    },
    "kernelspec": {
      "name": "python3",
      "display_name": "Python 3"
    },
    "language_info": {
      "name": "python"
    }
  },
  "cells": [
    {
      "cell_type": "markdown",
      "metadata": {
        "id": "view-in-github",
        "colab_type": "text"
      },
      "source": [
        "<a href=\"https://colab.research.google.com/github/nehansa2003/NumPy-Exercises-/blob/main/Untitled11.ipynb\" target=\"_parent\"><img src=\"https://colab.research.google.com/assets/colab-badge.svg\" alt=\"Open In Colab\"/></a>"
      ]
    },
    {
      "cell_type": "code",
      "execution_count": 1,
      "metadata": {
        "colab": {
          "base_uri": "https://localhost:8080/"
        },
        "id": "h60DZraGr4tQ",
        "outputId": "b3467a9e-d3f3-4d8a-ef6f-86227ed2fa0f"
      },
      "outputs": [
        {
          "output_type": "stream",
          "name": "stdout",
          "text": [
            "[0 1 2 3 4 5 6 7 8 9]\n"
          ]
        }
      ],
      "source": [
        "import numpy as np\n",
        "\n",
        "arr = np.arange(10)\n",
        "print(arr)"
      ]
    },
    {
      "cell_type": "code",
      "source": [
        "arr_1=np.arange(16)\n",
        "print(\"Original array:\",arr_1)\n",
        "#then rearrange the array as 4 x 4 2D array\n",
        "arr_2=arr_1.reshape(4,4)\n",
        "print(\"2D array :\")\n",
        "print(arr_2)"
      ],
      "metadata": {
        "colab": {
          "base_uri": "https://localhost:8080/"
        },
        "id": "W9MkzmGwskB-",
        "outputId": "b995d66c-b820-4a88-eda6-3cbee618f642"
      },
      "execution_count": 2,
      "outputs": [
        {
          "output_type": "stream",
          "name": "stdout",
          "text": [
            "Original array: [ 0  1  2  3  4  5  6  7  8  9 10 11 12 13 14 15]\n",
            "2D array :\n",
            "[[ 0  1  2  3]\n",
            " [ 4  5  6  7]\n",
            " [ 8  9 10 11]\n",
            " [12 13 14 15]]\n"
          ]
        }
      ]
    },
    {
      "cell_type": "code",
      "source": [
        "my_array = np.array([[1, 2], [3, 4], [5, 6], [7, 8]], dtype=np.uint16)\n",
        "print(my_array)\n",
        "print(\"The shape of the array is\",my_array.shape)\n",
        "print(\"The dimention of the array is\",my_array.ndim)\n",
        "print(\"The size if the array is\",my_array.itemsize)"
      ],
      "metadata": {
        "colab": {
          "base_uri": "https://localhost:8080/"
        },
        "id": "gA4PCpk2tmk9",
        "outputId": "4be80df9-4522-4e77-c5e9-ce299e605778"
      },
      "execution_count": 3,
      "outputs": [
        {
          "output_type": "stream",
          "name": "stdout",
          "text": [
            "[[1 2]\n",
            " [3 4]\n",
            " [5 6]\n",
            " [7 8]]\n",
            "The shape of the array is (4, 2)\n",
            "The dimention of the array is 2\n",
            "The size if the array is 2\n"
          ]
        }
      ]
    },
    {
      "cell_type": "markdown",
      "source": [
        "np.array() converts a Python list into a NumPy array. This allows efficient mathematical operations.\n",
        "                                                      dtype → data type of the array elements.\n",
        "\n",
        "np.uint16 → \"unsigned integer, 16-bit\".                                        Unsigned → values cannot be negative (only 0 and positive numbers are allowed).\n",
        "\n",
        "16-bit → each number is stored using 16 bits (2 bytes).\n",
        "\n",
        "Range → 0 to 65535 (because (2^16)−1=65535)."
      ],
      "metadata": {
        "id": "GD8HEOlov6Gs"
      }
    },
    {
      "cell_type": "code",
      "source": [
        "arr = np.ones((3, 3), dtype=bool)\n",
        "print(arr)"
      ],
      "metadata": {
        "colab": {
          "base_uri": "https://localhost:8080/"
        },
        "id": "Y9f54hOGvcYX",
        "outputId": "d7d85202-f90a-48c6-b944-1ca635238f36"
      },
      "execution_count": 4,
      "outputs": [
        {
          "output_type": "stream",
          "name": "stdout",
          "text": [
            "[[ True  True  True]\n",
            " [ True  True  True]\n",
            " [ True  True  True]]\n"
          ]
        }
      ]
    },
    {
      "cell_type": "markdown",
      "source": [
        "**np.ones((3, 3), ...)**\n",
        "\n",
        "Creates a 3×3 NumPy array.\n",
        "\n",
        "All elements are initially filled with the number 1.\n",
        "\n",
        "**dtype=bool**\n",
        "\n",
        "This forces the array elements to be stored as boolean values (True / False).\n",
        "\n",
        "In NumPy, any nonzero number (like 1) is automatically interpreted as True.\n",
        "\n",
        "If the fill value were 0, it would become False."
      ],
      "metadata": {
        "id": "E5K6EPPjy_WP"
      }
    },
    {
      "cell_type": "code",
      "source": [
        "my_array = np.full((3, 3), True, dtype=bool)\n",
        "\n",
        "print(my_array)\n",
        "print(\"Data type:\", my_array.dtype)"
      ],
      "metadata": {
        "colab": {
          "base_uri": "https://localhost:8080/"
        },
        "id": "LZ0ObYTkzYDB",
        "outputId": "386681f2-7f15-4040-caff-544764c9c0a4"
      },
      "execution_count": 5,
      "outputs": [
        {
          "output_type": "stream",
          "name": "stdout",
          "text": [
            "[[ True  True  True]\n",
            " [ True  True  True]\n",
            " [ True  True  True]]\n",
            "Data type: bool\n"
          ]
        }
      ]
    },
    {
      "cell_type": "markdown",
      "source": [
        "The np.full() function is a powerful way to create an array of any given shape filled with a specific value."
      ],
      "metadata": {
        "id": "kSa184NHz8yE"
      }
    },
    {
      "cell_type": "code",
      "source": [
        "from ast import Str\n",
        "#Another example to no.full and np.ones with different dtypes\n",
        "ARR_1=np.ones((4,4),dtype=int)\n",
        "print(ARR_1)\n",
        "print(\"\\n\")\n",
        "ARR_2=np.full((4,3),\"Nehansa\", dtype=Str)\n",
        "print(ARR_2)"
      ],
      "metadata": {
        "colab": {
          "base_uri": "https://localhost:8080/"
        },
        "id": "XjIlgiNKz-xI",
        "outputId": "a2c327c0-8c96-4f89-a724-27d104a019fe"
      },
      "execution_count": 6,
      "outputs": [
        {
          "output_type": "stream",
          "name": "stdout",
          "text": [
            "[[1 1 1 1]\n",
            " [1 1 1 1]\n",
            " [1 1 1 1]\n",
            " [1 1 1 1]]\n",
            "\n",
            "\n",
            "[['Nehansa' 'Nehansa' 'Nehansa']\n",
            " ['Nehansa' 'Nehansa' 'Nehansa']\n",
            " ['Nehansa' 'Nehansa' 'Nehansa']\n",
            " ['Nehansa' 'Nehansa' 'Nehansa']]\n"
          ]
        },
        {
          "output_type": "stream",
          "name": "stderr",
          "text": [
            "/tmp/ipython-input-1911749713.py:1: DeprecationWarning: ast.Str is deprecated and will be removed in Python 3.14; use ast.Constant instead\n",
            "  from ast import Str\n"
          ]
        }
      ]
    },
    {
      "cell_type": "code",
      "source": [
        "print(np.info(np.arange))"
      ],
      "metadata": {
        "colab": {
          "base_uri": "https://localhost:8080/"
        },
        "id": "WhcD1HIX1edf",
        "outputId": "f18e8691-e86a-4f0e-a011-6f7cb215d434"
      },
      "execution_count": 7,
      "outputs": [
        {
          "output_type": "stream",
          "name": "stdout",
          "text": [
            "arange([start,] stop[, step,], dtype=None, *, device=None, like=None)\n",
            "\n",
            "Return evenly spaced values within a given interval.\n",
            "\n",
            "``arange`` can be called with a varying number of positional arguments:\n",
            "\n",
            "* ``arange(stop)``: Values are generated within the half-open interval\n",
            "  ``[0, stop)`` (in other words, the interval including `start` but\n",
            "  excluding `stop`).\n",
            "* ``arange(start, stop)``: Values are generated within the half-open\n",
            "  interval ``[start, stop)``.\n",
            "* ``arange(start, stop, step)`` Values are generated within the half-open\n",
            "  interval ``[start, stop)``, with spacing between values given by\n",
            "  ``step``.\n",
            "\n",
            "For integer arguments the function is roughly equivalent to the Python\n",
            "built-in :py:class:`range`, but returns an ndarray rather than a ``range``\n",
            "instance.\n",
            "\n",
            "When using a non-integer step, such as 0.1, it is often better to use\n",
            "`numpy.linspace`.\n",
            "\n",
            "See the Warning sections below for more information.\n",
            "\n",
            "Parameters\n",
            "----------\n",
            "start : integer or real, optional\n",
            "    Start of interval.  The interval includes this value.  The default\n",
            "    start value is 0.\n",
            "stop : integer or real\n",
            "    End of interval.  The interval does not include this value, except\n",
            "    in some cases where `step` is not an integer and floating point\n",
            "    round-off affects the length of `out`.\n",
            "step : integer or real, optional\n",
            "    Spacing between values.  For any output `out`, this is the distance\n",
            "    between two adjacent values, ``out[i+1] - out[i]``.  The default\n",
            "    step size is 1.  If `step` is specified as a position argument,\n",
            "    `start` must also be given.\n",
            "dtype : dtype, optional\n",
            "    The type of the output array.  If `dtype` is not given, infer the data\n",
            "    type from the other input arguments.\n",
            "device : str, optional\n",
            "    The device on which to place the created array. Default: None.\n",
            "    For Array-API interoperability only, so must be ``\"cpu\"`` if passed.\n",
            "\n",
            "    .. versionadded:: 2.0.0\n",
            "like : array_like, optional\n",
            "    Reference object to allow the creation of arrays which are not\n",
            "    NumPy arrays. If an array-like passed in as ``like`` supports\n",
            "    the ``__array_function__`` protocol, the result will be defined\n",
            "    by it. In this case, it ensures the creation of an array object\n",
            "    compatible with that passed in via this argument.\n",
            "\n",
            "    .. versionadded:: 1.20.0\n",
            "\n",
            "Returns\n",
            "-------\n",
            "arange : ndarray\n",
            "    Array of evenly spaced values.\n",
            "\n",
            "    For floating point arguments, the length of the result is\n",
            "    ``ceil((stop - start)/step)``.  Because of floating point overflow,\n",
            "    this rule may result in the last element of `out` being greater\n",
            "    than `stop`.\n",
            "\n",
            "Warnings\n",
            "--------\n",
            "The length of the output might not be numerically stable.\n",
            "\n",
            "Another stability issue is due to the internal implementation of\n",
            "`numpy.arange`.\n",
            "The actual step value used to populate the array is\n",
            "``dtype(start + step) - dtype(start)`` and not `step`. Precision loss\n",
            "can occur here, due to casting or due to using floating points when\n",
            "`start` is much larger than `step`. This can lead to unexpected\n",
            "behaviour. For example::\n",
            "\n",
            "  >>> np.arange(0, 5, 0.5, dtype=int)\n",
            "  array([0, 0, 0, 0, 0, 0, 0, 0, 0, 0])\n",
            "  >>> np.arange(-3, 3, 0.5, dtype=int)\n",
            "  array([-3, -2, -1,  0,  1,  2,  3,  4,  5,  6,  7,  8])\n",
            "\n",
            "In such cases, the use of `numpy.linspace` should be preferred.\n",
            "\n",
            "The built-in :py:class:`range` generates :std:doc:`Python built-in integers\n",
            "that have arbitrary size <python:c-api/long>`, while `numpy.arange`\n",
            "produces `numpy.int32` or `numpy.int64` numbers. This may result in\n",
            "incorrect results for large integer values::\n",
            "\n",
            "  >>> power = 40\n",
            "  >>> modulo = 10000\n",
            "  >>> x1 = [(n ** power) % modulo for n in range(8)]\n",
            "  >>> x2 = [(n ** power) % modulo for n in np.arange(8)]\n",
            "  >>> print(x1)\n",
            "  [0, 1, 7776, 8801, 6176, 625, 6576, 4001]  # correct\n",
            "  >>> print(x2)\n",
            "  [0, 1, 7776, 7185, 0, 5969, 4816, 3361]  # incorrect\n",
            "\n",
            "See Also\n",
            "--------\n",
            "numpy.linspace : Evenly spaced numbers with careful handling of endpoints.\n",
            "numpy.ogrid: Arrays of evenly spaced numbers in N-dimensions.\n",
            "numpy.mgrid: Grid-shaped arrays of evenly spaced numbers in N-dimensions.\n",
            ":ref:`how-to-partition`\n",
            "\n",
            "Examples\n",
            "--------\n",
            ">>> np.arange(3)\n",
            "array([0, 1, 2])\n",
            ">>> np.arange(3.0)\n",
            "array([ 0.,  1.,  2.])\n",
            ">>> np.arange(3,7)\n",
            "array([3, 4, 5, 6])\n",
            ">>> np.arange(3,7,2)\n",
            "array([3, 5])\n",
            "None\n"
          ]
        }
      ]
    },
    {
      "cell_type": "markdown",
      "source": [
        "**np.arange**\n",
        "\n",
        "This is a NumPy function that creates arrays with regularly spaced values (like Python’s range() but returns a NumPy array).                                   Ex: np.arange(2, 10, 2)  # [2 4 6 8]\n",
        "\n",
        "**np.info(...)**\n",
        "\n",
        "This displays the documentation (docstring) of a NumPy object (function, class, method, etc.).\n",
        "It tells you what the function does, its parameters, return type, and examples."
      ],
      "metadata": {
        "id": "ek17cTel2pEN"
      }
    },
    {
      "cell_type": "code",
      "source": [
        "#method 1\n",
        "arr_3=np.full((1,5),0,dtype=int)\n",
        "print(\"Zeros from method 1:\",arr_3)\n",
        "\n",
        "#Method 2\n",
        "arr_4=np.zeros((1,5),dtype=int)\n",
        "print(\"Zeros from method 2:\",arr_4)\n",
        "\n",
        "#Likewise getting ones\n",
        "arr_5=np.ones((1,5),dtype=int)\n",
        "print(\"Ones from method 1:\",arr_5)\n",
        "\n",
        "#"
      ],
      "metadata": {
        "colab": {
          "base_uri": "https://localhost:8080/"
        },
        "id": "P3zIBqt33NDl",
        "outputId": "3dc6a4a8-af6f-49e1-f3eb-9967851f8138"
      },
      "execution_count": 8,
      "outputs": [
        {
          "output_type": "stream",
          "name": "stdout",
          "text": [
            "Zeros from method 1: [[0 0 0 0 0]]\n",
            "Zeros from method 2: [[0 0 0 0 0]]\n",
            "Ones from method 1: [[1 1 1 1 1]]\n"
          ]
        }
      ]
    },
    {
      "cell_type": "code",
      "source": [
        "arr_4=np.linspace(5,50,10)\n",
        "print(arr_4)"
      ],
      "metadata": {
        "colab": {
          "base_uri": "https://localhost:8080/"
        },
        "id": "sfQMXQ5c99Em",
        "outputId": "40ca4238-48d2-4d3f-834f-2fd5475cf025"
      },
      "execution_count": 9,
      "outputs": [
        {
          "output_type": "stream",
          "name": "stdout",
          "text": [
            "[ 5. 10. 15. 20. 25. 30. 35. 40. 45. 50.]\n"
          ]
        }
      ]
    },
    {
      "cell_type": "code",
      "source": [
        "list_1=[1,2,3,4,5]\n",
        "np.array(list_1)"
      ],
      "metadata": {
        "id": "zAYm50sNDiZZ",
        "outputId": "0479b1eb-6382-4029-92c2-5f2e23280a0a",
        "colab": {
          "base_uri": "https://localhost:8080/"
        }
      },
      "execution_count": 10,
      "outputs": [
        {
          "output_type": "execute_result",
          "data": {
            "text/plain": [
              "array([1, 2, 3, 4, 5])"
            ]
          },
          "metadata": {},
          "execution_count": 10
        }
      ]
    },
    {
      "cell_type": "markdown",
      "source": [],
      "metadata": {
        "id": "fhrD21v8DQLt"
      }
    },
    {
      "cell_type": "code",
      "source": [
        "array_5=np.arange(10)\n",
        "print(\"Array is\",array_5)\n",
        "print(\"Memory size of the array is\",array_5.nbytes)"
      ],
      "metadata": {
        "id": "MjKpsb8dDzxg",
        "outputId": "73914a33-c60b-44c9-e370-859a9823213f",
        "colab": {
          "base_uri": "https://localhost:8080/"
        }
      },
      "execution_count": 11,
      "outputs": [
        {
          "output_type": "stream",
          "name": "stdout",
          "text": [
            "Array is [0 1 2 3 4 5 6 7 8 9]\n",
            "Memory size of the array is 80\n"
          ]
        }
      ]
    },
    {
      "cell_type": "code",
      "source": [
        "array_6=np.arange(10)\n",
        "rearange=array_5[::-1]\n",
        "print (rearange)\n"
      ],
      "metadata": {
        "id": "5-TAiLH7DSCV",
        "outputId": "08ae58a8-b51a-4c4b-d6e1-7759d688a0b7",
        "colab": {
          "base_uri": "https://localhost:8080/"
        }
      },
      "execution_count": 14,
      "outputs": [
        {
          "output_type": "stream",
          "name": "stdout",
          "text": [
            "[9 8 7 6 5 4 3 2 1 0]\n"
          ]
        }
      ]
    },
    {
      "cell_type": "code",
      "source": [
        "identity_matrix=np.eye(3)\n",
        "print(identity_matrix)\n",
        "print(\"\\n\")\n",
        "identity=np.eye(2)\n",
        "print(identity)"
      ],
      "metadata": {
        "id": "Svjfv4QlDvjt",
        "outputId": "0eec817b-40b6-4407-90d4-3ddec8dd4954",
        "colab": {
          "base_uri": "https://localhost:8080/"
        }
      },
      "execution_count": 17,
      "outputs": [
        {
          "output_type": "stream",
          "name": "stdout",
          "text": [
            "[[1. 0. 0.]\n",
            " [0. 1. 0.]\n",
            " [0. 0. 1.]]\n",
            "\n",
            "\n",
            "[[1. 0.]\n",
            " [0. 1.]]\n"
          ]
        }
      ]
    },
    {
      "cell_type": "code",
      "source": [
        "array_6=np.arange(1,17).reshape(4,4)\n",
        "print(array_6)\n",
        "print(\"\\n\")\n",
        "first_row=array_6[0]\n",
        "print(\"First row is \",first_row)\n",
        "print(\"\\n\")\n",
        "last_column= array_6[:,-1]\n",
        "print(\"Last column is \",last_column)"
      ],
      "metadata": {
        "id": "xu26EzjCHU4j",
        "outputId": "eb2f3f7a-441a-4f5d-8e38-939b8212d8aa",
        "colab": {
          "base_uri": "https://localhost:8080/"
        }
      },
      "execution_count": 19,
      "outputs": [
        {
          "output_type": "stream",
          "name": "stdout",
          "text": [
            "[[ 1  2  3  4]\n",
            " [ 5  6  7  8]\n",
            " [ 9 10 11 12]\n",
            " [13 14 15 16]]\n",
            "\n",
            "\n",
            "First row is  [1 2 3 4]\n",
            "\n",
            "\n",
            "Last column is  [ 4  8 12 16]\n"
          ]
        }
      ]
    },
    {
      "cell_type": "markdown",
      "source": [
        "The syntax array[start:stop:step] lets you specify which elements to select.\n",
        "\n",
        "1::2 for the rows means:\n",
        "\n",
        "Start: at index 1 (the second row).\n",
        "\n",
        "Stop: Omitted, so it goes to the end of the array.\n",
        "\n",
        "Step: 2, meaning it selects every second row. This gives us rows at indices 1 and 3.\n",
        "\n",
        "::2 for the columns means:\n",
        "\n",
        "Start: Omitted, so it defaults to 0 (the first column).\n",
        "\n",
        "Stop: Omitted, so it goes to the end.\n",
        "\n",
        "Step: 2, meaning it selects every second column. This gives us columns at indices 0 and 2.\n",
        "\n",
        "By combining these two slices, sampleArray[1::2, ::2], NumPy efficiently creates a new array containing the elements at the intersection of the specified rows and columns"
      ],
      "metadata": {
        "id": "HmgGFBR5KQOg"
      }
    },
    {
      "cell_type": "code",
      "source": [
        "a=np.array([12,13,14,15,16])\n",
        "b=np.array([17,18,19,20])\n",
        "stacked_arr=np.hstack((a,b))\n",
        "print(stacked_arr)"
      ],
      "metadata": {
        "id": "ZCgEnT9QI5KP",
        "outputId": "e3a50e2f-9a0c-425e-a716-330dd3267e6a",
        "colab": {
          "base_uri": "https://localhost:8080/"
        }
      },
      "execution_count": 21,
      "outputs": [
        {
          "output_type": "stream",
          "name": "stdout",
          "text": [
            "[12 13 14 15 16 17 18 19 20]\n"
          ]
        }
      ]
    },
    {
      "cell_type": "code",
      "source": [
        "array_6=np.arange(1,17).reshape(4,4)\n",
        "print(array_6)\n",
        "print(\"\\n\")\n",
        "array_7=array_6[0:2,0:2]\n",
        "print (array_7)\n",
        "array_8=array_6[0:2,0:4]\n",
        "print(\"\\n\",array_8)"
      ],
      "metadata": {
        "id": "0_xl6qJBLmzI",
        "outputId": "e26cca97-5c47-4ec4-92b7-f98a6e06a654",
        "colab": {
          "base_uri": "https://localhost:8080/"
        }
      },
      "execution_count": 25,
      "outputs": [
        {
          "output_type": "stream",
          "name": "stdout",
          "text": [
            "[[ 1  2  3  4]\n",
            " [ 5  6  7  8]\n",
            " [ 9 10 11 12]\n",
            " [13 14 15 16]]\n",
            "\n",
            "\n",
            "[[1 2]\n",
            " [5 6]]\n",
            "\n",
            " [[1 2 3 4]\n",
            " [5 6 7 8]]\n"
          ]
        }
      ]
    },
    {
      "cell_type": "code",
      "source": [
        "array_9=np.arange(1,11)\n",
        "print(\"old array is\",array_9)\n",
        "print(\"\\n\")\n",
        "array_9[array_9/2==2]=0\n",
        "print(array_9)\n",
        "array_9[array_9 % 2==1]=-1\n",
        "print(\"Modified array is\", array_9)\n"
      ],
      "metadata": {
        "id": "6E4dBiuLMwgG",
        "outputId": "647d2c46-1175-4267-b5b6-58e0ad0a3fc2",
        "colab": {
          "base_uri": "https://localhost:8080/"
        }
      },
      "execution_count": 30,
      "outputs": [
        {
          "output_type": "stream",
          "name": "stdout",
          "text": [
            "old array is [ 1  2  3  4  5  6  7  8  9 10]\n",
            "\n",
            "\n",
            "[ 1  2  3  0  5  6  7  8  9 10]\n",
            "Modified array is [-1  2 -1  0 -1  6 -1  8 -1 10]\n"
          ]
        }
      ]
    },
    {
      "cell_type": "code",
      "source": [
        "arr=np.array([1,0,2,0,3,0,4])\n",
        "print(\"Array is \",arr)\n",
        "indices=np.nonzero(arr)\n",
        "print(indices)\n",
        "print(arr[1])"
      ],
      "metadata": {
        "id": "jW8vIBH7P-0u",
        "outputId": "ced55f57-5009-4750-fc6e-f9c1f09ee4f3",
        "colab": {
          "base_uri": "https://localhost:8080/"
        }
      },
      "execution_count": 34,
      "outputs": [
        {
          "output_type": "stream",
          "name": "stdout",
          "text": [
            "Array is  [1 0 2 0 3 0 4]\n",
            "(array([0, 2, 4, 6]),)\n",
            "0\n"
          ]
        }
      ]
    },
    {
      "cell_type": "markdown",
      "source": [
        "np.nonzero(arr) returns a tuple of indices where elements are non-zero.\n",
        "\n",
        "In this example → (array([0, 2, 4, 6]),) meaning non-zero elements are at positions 0, 2, 4, 6."
      ],
      "metadata": {
        "id": "ZHBq6reeRFPN"
      }
    },
    {
      "cell_type": "code",
      "source": [],
      "metadata": {
        "id": "Qx-aWSaQRI-C"
      },
      "execution_count": null,
      "outputs": []
    }
  ]
}