{
  "nbformat": 4,
  "nbformat_minor": 0,
  "metadata": {
    "colab": {
      "provenance": [],
      "authorship_tag": "ABX9TyPbN6D14agxbs7TGf33Tbpw",
      "include_colab_link": true
    },
    "kernelspec": {
      "name": "python3",
      "display_name": "Python 3"
    },
    "language_info": {
      "name": "python"
    }
  },
  "cells": [
    {
      "cell_type": "markdown",
      "metadata": {
        "id": "view-in-github",
        "colab_type": "text"
      },
      "source": [
        "<a href=\"https://colab.research.google.com/github/nehansa2003/NumPy-Exercises-/blob/main/Untitled11.ipynb\" target=\"_parent\"><img src=\"https://colab.research.google.com/assets/colab-badge.svg\" alt=\"Open In Colab\"/></a>"
      ]
    },
    {
      "cell_type": "code",
      "execution_count": 35,
      "metadata": {
        "colab": {
          "base_uri": "https://localhost:8080/"
        },
        "id": "h60DZraGr4tQ",
        "outputId": "fd16a2f7-5602-4478-d17a-9a7a470669eb"
      },
      "outputs": [
        {
          "output_type": "stream",
          "name": "stdout",
          "text": [
            "[0 1 2 3 4 5 6 7 8 9]\n"
          ]
        }
      ],
      "source": [
        "import numpy as np\n",
        "\n",
        "arr = np.arange(10)\n",
        "print(arr)"
      ]
    },
    {
      "cell_type": "code",
      "source": [
        "arr_1=np.arange(16)\n",
        "print(\"Original array:\",arr_1)\n",
        "#then rearrange the array as 4 x 4 2D array\n",
        "arr_2=arr_1.reshape(4,4)\n",
        "print(\"2D array :\")\n",
        "print(arr_2)"
      ],
      "metadata": {
        "colab": {
          "base_uri": "https://localhost:8080/"
        },
        "id": "W9MkzmGwskB-",
        "outputId": "3971be14-c5ea-4031-f434-9e802191958b"
      },
      "execution_count": 36,
      "outputs": [
        {
          "output_type": "stream",
          "name": "stdout",
          "text": [
            "Original array: [ 0  1  2  3  4  5  6  7  8  9 10 11 12 13 14 15]\n",
            "2D array :\n",
            "[[ 0  1  2  3]\n",
            " [ 4  5  6  7]\n",
            " [ 8  9 10 11]\n",
            " [12 13 14 15]]\n"
          ]
        }
      ]
    },
    {
      "cell_type": "code",
      "source": [
        "my_array = np.array([[1, 2], [3, 4], [5, 6], [7, 8]], dtype=np.uint16)\n",
        "print(my_array)\n",
        "print(\"The shape of the array is\",my_array.shape)\n",
        "print(\"The dimention of the array is\",my_array.ndim)\n",
        "print(\"The size if the array is\",my_array.itemsize)"
      ],
      "metadata": {
        "colab": {
          "base_uri": "https://localhost:8080/"
        },
        "id": "gA4PCpk2tmk9",
        "outputId": "973a8e9f-22c4-4b1e-903e-e94d629b3559"
      },
      "execution_count": 37,
      "outputs": [
        {
          "output_type": "stream",
          "name": "stdout",
          "text": [
            "[[1 2]\n",
            " [3 4]\n",
            " [5 6]\n",
            " [7 8]]\n",
            "The shape of the array is (4, 2)\n",
            "The dimention of the array is 2\n",
            "The size if the array is 2\n"
          ]
        }
      ]
    },
    {
      "cell_type": "markdown",
      "source": [
        "np.array() converts a Python list into a NumPy array. This allows efficient mathematical operations.\n",
        "                                                      dtype → data type of the array elements.\n",
        "\n",
        "np.uint16 → \"unsigned integer, 16-bit\".                                        Unsigned → values cannot be negative (only 0 and positive numbers are allowed).\n",
        "\n",
        "16-bit → each number is stored using 16 bits (2 bytes).\n",
        "\n",
        "Range → 0 to 65535 (because (2^16)−1=65535)."
      ],
      "metadata": {
        "id": "GD8HEOlov6Gs"
      }
    },
    {
      "cell_type": "code",
      "source": [
        "arr = np.ones((3, 3), dtype=bool)\n",
        "print(arr)"
      ],
      "metadata": {
        "colab": {
          "base_uri": "https://localhost:8080/"
        },
        "id": "Y9f54hOGvcYX",
        "outputId": "e2fcdbb0-6e4a-416e-a62b-63e986f7ffa0"
      },
      "execution_count": 38,
      "outputs": [
        {
          "output_type": "stream",
          "name": "stdout",
          "text": [
            "[[ True  True  True]\n",
            " [ True  True  True]\n",
            " [ True  True  True]]\n"
          ]
        }
      ]
    },
    {
      "cell_type": "markdown",
      "source": [
        "**np.ones((3, 3), ...)**\n",
        "\n",
        "Creates a 3×3 NumPy array.\n",
        "\n",
        "All elements are initially filled with the number 1.\n",
        "\n",
        "**dtype=bool**\n",
        "\n",
        "This forces the array elements to be stored as boolean values (True / False).\n",
        "\n",
        "In NumPy, any nonzero number (like 1) is automatically interpreted as True.\n",
        "\n",
        "If the fill value were 0, it would become False."
      ],
      "metadata": {
        "id": "E5K6EPPjy_WP"
      }
    },
    {
      "cell_type": "code",
      "source": [
        "my_array = np.full((3, 3), True, dtype=bool)\n",
        "\n",
        "print(my_array)\n",
        "print(\"Data type:\", my_array.dtype)"
      ],
      "metadata": {
        "colab": {
          "base_uri": "https://localhost:8080/"
        },
        "id": "LZ0ObYTkzYDB",
        "outputId": "d7b06ae8-6e15-4abc-f230-fdbf766cf4e8"
      },
      "execution_count": 39,
      "outputs": [
        {
          "output_type": "stream",
          "name": "stdout",
          "text": [
            "[[ True  True  True]\n",
            " [ True  True  True]\n",
            " [ True  True  True]]\n",
            "Data type: bool\n"
          ]
        }
      ]
    },
    {
      "cell_type": "markdown",
      "source": [
        "The np.full() function is a powerful way to create an array of any given shape filled with a specific value."
      ],
      "metadata": {
        "id": "kSa184NHz8yE"
      }
    },
    {
      "cell_type": "code",
      "source": [
        "from ast import Str\n",
        "#Another example to no.full and np.ones with different dtypes\n",
        "ARR_1=np.ones((4,4),dtype=int)\n",
        "print(ARR_1)\n",
        "print(\"\\n\")\n",
        "ARR_2=np.full((4,3),\"Nehansa\", dtype=Str)\n",
        "print(ARR_2)"
      ],
      "metadata": {
        "colab": {
          "base_uri": "https://localhost:8080/"
        },
        "id": "XjIlgiNKz-xI",
        "outputId": "6ca6459b-09e6-4b4e-a854-2cf62778b63a"
      },
      "execution_count": 40,
      "outputs": [
        {
          "output_type": "stream",
          "name": "stdout",
          "text": [
            "[[1 1 1 1]\n",
            " [1 1 1 1]\n",
            " [1 1 1 1]\n",
            " [1 1 1 1]]\n",
            "\n",
            "\n",
            "[['Nehansa' 'Nehansa' 'Nehansa']\n",
            " ['Nehansa' 'Nehansa' 'Nehansa']\n",
            " ['Nehansa' 'Nehansa' 'Nehansa']\n",
            " ['Nehansa' 'Nehansa' 'Nehansa']]\n"
          ]
        }
      ]
    },
    {
      "cell_type": "code",
      "source": [
        "print(np.info(np.arange))"
      ],
      "metadata": {
        "colab": {
          "base_uri": "https://localhost:8080/"
        },
        "id": "WhcD1HIX1edf",
        "outputId": "926c5504-cfc2-4fb0-db37-c5422296ca68"
      },
      "execution_count": 41,
      "outputs": [
        {
          "output_type": "stream",
          "name": "stdout",
          "text": [
            "arange([start,] stop[, step,], dtype=None, *, device=None, like=None)\n",
            "\n",
            "Return evenly spaced values within a given interval.\n",
            "\n",
            "``arange`` can be called with a varying number of positional arguments:\n",
            "\n",
            "* ``arange(stop)``: Values are generated within the half-open interval\n",
            "  ``[0, stop)`` (in other words, the interval including `start` but\n",
            "  excluding `stop`).\n",
            "* ``arange(start, stop)``: Values are generated within the half-open\n",
            "  interval ``[start, stop)``.\n",
            "* ``arange(start, stop, step)`` Values are generated within the half-open\n",
            "  interval ``[start, stop)``, with spacing between values given by\n",
            "  ``step``.\n",
            "\n",
            "For integer arguments the function is roughly equivalent to the Python\n",
            "built-in :py:class:`range`, but returns an ndarray rather than a ``range``\n",
            "instance.\n",
            "\n",
            "When using a non-integer step, such as 0.1, it is often better to use\n",
            "`numpy.linspace`.\n",
            "\n",
            "See the Warning sections below for more information.\n",
            "\n",
            "Parameters\n",
            "----------\n",
            "start : integer or real, optional\n",
            "    Start of interval.  The interval includes this value.  The default\n",
            "    start value is 0.\n",
            "stop : integer or real\n",
            "    End of interval.  The interval does not include this value, except\n",
            "    in some cases where `step` is not an integer and floating point\n",
            "    round-off affects the length of `out`.\n",
            "step : integer or real, optional\n",
            "    Spacing between values.  For any output `out`, this is the distance\n",
            "    between two adjacent values, ``out[i+1] - out[i]``.  The default\n",
            "    step size is 1.  If `step` is specified as a position argument,\n",
            "    `start` must also be given.\n",
            "dtype : dtype, optional\n",
            "    The type of the output array.  If `dtype` is not given, infer the data\n",
            "    type from the other input arguments.\n",
            "device : str, optional\n",
            "    The device on which to place the created array. Default: None.\n",
            "    For Array-API interoperability only, so must be ``\"cpu\"`` if passed.\n",
            "\n",
            "    .. versionadded:: 2.0.0\n",
            "like : array_like, optional\n",
            "    Reference object to allow the creation of arrays which are not\n",
            "    NumPy arrays. If an array-like passed in as ``like`` supports\n",
            "    the ``__array_function__`` protocol, the result will be defined\n",
            "    by it. In this case, it ensures the creation of an array object\n",
            "    compatible with that passed in via this argument.\n",
            "\n",
            "    .. versionadded:: 1.20.0\n",
            "\n",
            "Returns\n",
            "-------\n",
            "arange : ndarray\n",
            "    Array of evenly spaced values.\n",
            "\n",
            "    For floating point arguments, the length of the result is\n",
            "    ``ceil((stop - start)/step)``.  Because of floating point overflow,\n",
            "    this rule may result in the last element of `out` being greater\n",
            "    than `stop`.\n",
            "\n",
            "Warnings\n",
            "--------\n",
            "The length of the output might not be numerically stable.\n",
            "\n",
            "Another stability issue is due to the internal implementation of\n",
            "`numpy.arange`.\n",
            "The actual step value used to populate the array is\n",
            "``dtype(start + step) - dtype(start)`` and not `step`. Precision loss\n",
            "can occur here, due to casting or due to using floating points when\n",
            "`start` is much larger than `step`. This can lead to unexpected\n",
            "behaviour. For example::\n",
            "\n",
            "  >>> np.arange(0, 5, 0.5, dtype=int)\n",
            "  array([0, 0, 0, 0, 0, 0, 0, 0, 0, 0])\n",
            "  >>> np.arange(-3, 3, 0.5, dtype=int)\n",
            "  array([-3, -2, -1,  0,  1,  2,  3,  4,  5,  6,  7,  8])\n",
            "\n",
            "In such cases, the use of `numpy.linspace` should be preferred.\n",
            "\n",
            "The built-in :py:class:`range` generates :std:doc:`Python built-in integers\n",
            "that have arbitrary size <python:c-api/long>`, while `numpy.arange`\n",
            "produces `numpy.int32` or `numpy.int64` numbers. This may result in\n",
            "incorrect results for large integer values::\n",
            "\n",
            "  >>> power = 40\n",
            "  >>> modulo = 10000\n",
            "  >>> x1 = [(n ** power) % modulo for n in range(8)]\n",
            "  >>> x2 = [(n ** power) % modulo for n in np.arange(8)]\n",
            "  >>> print(x1)\n",
            "  [0, 1, 7776, 8801, 6176, 625, 6576, 4001]  # correct\n",
            "  >>> print(x2)\n",
            "  [0, 1, 7776, 7185, 0, 5969, 4816, 3361]  # incorrect\n",
            "\n",
            "See Also\n",
            "--------\n",
            "numpy.linspace : Evenly spaced numbers with careful handling of endpoints.\n",
            "numpy.ogrid: Arrays of evenly spaced numbers in N-dimensions.\n",
            "numpy.mgrid: Grid-shaped arrays of evenly spaced numbers in N-dimensions.\n",
            ":ref:`how-to-partition`\n",
            "\n",
            "Examples\n",
            "--------\n",
            ">>> np.arange(3)\n",
            "array([0, 1, 2])\n",
            ">>> np.arange(3.0)\n",
            "array([ 0.,  1.,  2.])\n",
            ">>> np.arange(3,7)\n",
            "array([3, 4, 5, 6])\n",
            ">>> np.arange(3,7,2)\n",
            "array([3, 5])\n",
            "None\n"
          ]
        }
      ]
    },
    {
      "cell_type": "markdown",
      "source": [
        "**np.arange**\n",
        "\n",
        "This is a NumPy function that creates arrays with regularly spaced values (like Python’s range() but returns a NumPy array).                                   Ex: np.arange(2, 10, 2)  # [2 4 6 8]\n",
        "\n",
        "**np.info(...)**\n",
        "\n",
        "This displays the documentation (docstring) of a NumPy object (function, class, method, etc.).\n",
        "It tells you what the function does, its parameters, return type, and examples."
      ],
      "metadata": {
        "id": "ek17cTel2pEN"
      }
    },
    {
      "cell_type": "code",
      "source": [
        "#method 1\n",
        "arr_3=np.full((1,5),0,dtype=int)\n",
        "print(\"Zeros from method 1:\",arr_3)\n",
        "\n",
        "#Method 2\n",
        "arr_4=np.zeros((1,5),dtype=int)\n",
        "print(\"Zeros from method 2:\",arr_4)\n",
        "\n",
        "#Likewise getting ones\n",
        "arr_5=np.ones((1,5),dtype=int)\n",
        "print(\"Ones from method 1:\",arr_5)\n",
        "\n",
        "#"
      ],
      "metadata": {
        "colab": {
          "base_uri": "https://localhost:8080/"
        },
        "id": "P3zIBqt33NDl",
        "outputId": "cee3d295-c1e5-4b0c-9ebf-bc8d7e386d03"
      },
      "execution_count": 42,
      "outputs": [
        {
          "output_type": "stream",
          "name": "stdout",
          "text": [
            "Zeros from method 1: [[0 0 0 0 0]]\n",
            "Zeros from method 2: [[0 0 0 0 0]]\n",
            "Ones from method 1: [[1 1 1 1 1]]\n"
          ]
        }
      ]
    },
    {
      "cell_type": "code",
      "source": [
        "arr_4=np.linspace(5,50,10)\n",
        "print(arr_4)"
      ],
      "metadata": {
        "colab": {
          "base_uri": "https://localhost:8080/"
        },
        "id": "sfQMXQ5c99Em",
        "outputId": "a7b4da22-d327-4965-f21c-c7106cacc313"
      },
      "execution_count": 43,
      "outputs": [
        {
          "output_type": "stream",
          "name": "stdout",
          "text": [
            "[ 5. 10. 15. 20. 25. 30. 35. 40. 45. 50.]\n"
          ]
        }
      ]
    },
    {
      "cell_type": "code",
      "source": [
        "list_1=[1,2,3,4,5]\n",
        "np.array(list_1)"
      ],
      "metadata": {
        "id": "zAYm50sNDiZZ",
        "outputId": "a36fcb5e-9ffa-49b1-f7dd-affd2757ae0b",
        "colab": {
          "base_uri": "https://localhost:8080/"
        }
      },
      "execution_count": 44,
      "outputs": [
        {
          "output_type": "execute_result",
          "data": {
            "text/plain": [
              "array([1, 2, 3, 4, 5])"
            ]
          },
          "metadata": {},
          "execution_count": 44
        }
      ]
    },
    {
      "cell_type": "markdown",
      "source": [],
      "metadata": {
        "id": "fhrD21v8DQLt"
      }
    },
    {
      "cell_type": "code",
      "source": [
        "array_5=np.arange(10)\n",
        "print(\"Array is\",array_5)\n",
        "print(\"Memory size of the array is\",array_5.nbytes)"
      ],
      "metadata": {
        "id": "MjKpsb8dDzxg",
        "outputId": "23aedc3e-91bc-4972-9565-408a83f4b323",
        "colab": {
          "base_uri": "https://localhost:8080/"
        }
      },
      "execution_count": 45,
      "outputs": [
        {
          "output_type": "stream",
          "name": "stdout",
          "text": [
            "Array is [0 1 2 3 4 5 6 7 8 9]\n",
            "Memory size of the array is 80\n"
          ]
        }
      ]
    },
    {
      "cell_type": "code",
      "source": [
        "array_6=np.arange(10)\n",
        "rearange=array_5[::-1]\n",
        "print (rearange)\n"
      ],
      "metadata": {
        "colab": {
          "base_uri": "https://localhost:8080/"
        },
        "id": "5-TAiLH7DSCV",
        "outputId": "16bc733d-5eb4-4f3d-da36-8ddda8a326f5"
      },
      "execution_count": 46,
      "outputs": [
        {
          "output_type": "stream",
          "name": "stdout",
          "text": [
            "[9 8 7 6 5 4 3 2 1 0]\n"
          ]
        }
      ]
    },
    {
      "cell_type": "code",
      "source": [
        "identity_matrix=np.eye(3)\n",
        "print(identity_matrix)\n",
        "print(\"\\n\")\n",
        "identity=np.eye(2)\n",
        "print(identity)"
      ],
      "metadata": {
        "colab": {
          "base_uri": "https://localhost:8080/"
        },
        "id": "Svjfv4QlDvjt",
        "outputId": "3b471b46-8c17-4be4-bdec-67ab195df6cd"
      },
      "execution_count": 47,
      "outputs": [
        {
          "output_type": "stream",
          "name": "stdout",
          "text": [
            "[[1. 0. 0.]\n",
            " [0. 1. 0.]\n",
            " [0. 0. 1.]]\n",
            "\n",
            "\n",
            "[[1. 0.]\n",
            " [0. 1.]]\n"
          ]
        }
      ]
    },
    {
      "cell_type": "code",
      "source": [
        "array_6=np.arange(1,17).reshape(4,4)\n",
        "print(array_6)\n",
        "print(\"\\n\")\n",
        "first_row=array_6[0]\n",
        "print(\"First row is \",first_row)\n",
        "print(\"\\n\")\n",
        "last_column= array_6[:,-1]\n",
        "print(\"Last column is \",last_column)"
      ],
      "metadata": {
        "colab": {
          "base_uri": "https://localhost:8080/"
        },
        "id": "xu26EzjCHU4j",
        "outputId": "f74b93fe-aef7-460b-efb5-f8193428020d"
      },
      "execution_count": 48,
      "outputs": [
        {
          "output_type": "stream",
          "name": "stdout",
          "text": [
            "[[ 1  2  3  4]\n",
            " [ 5  6  7  8]\n",
            " [ 9 10 11 12]\n",
            " [13 14 15 16]]\n",
            "\n",
            "\n",
            "First row is  [1 2 3 4]\n",
            "\n",
            "\n",
            "Last column is  [ 4  8 12 16]\n"
          ]
        }
      ]
    },
    {
      "cell_type": "markdown",
      "source": [
        "The syntax array[start:stop:step] lets you specify which elements to select.\n",
        "\n",
        "1::2 for the rows means:\n",
        "\n",
        "Start: at index 1 (the second row).\n",
        "\n",
        "Stop: Omitted, so it goes to the end of the array.\n",
        "\n",
        "Step: 2, meaning it selects every second row. This gives us rows at indices 1 and 3.\n",
        "\n",
        "::2 for the columns means:\n",
        "\n",
        "Start: Omitted, so it defaults to 0 (the first column).\n",
        "\n",
        "Stop: Omitted, so it goes to the end.\n",
        "\n",
        "Step: 2, meaning it selects every second column. This gives us columns at indices 0 and 2.\n",
        "\n",
        "By combining these two slices, sampleArray[1::2, ::2], NumPy efficiently creates a new array containing the elements at the intersection of the specified rows and columns"
      ],
      "metadata": {
        "id": "HmgGFBR5KQOg"
      }
    },
    {
      "cell_type": "code",
      "source": [
        "a=np.array([12,13,14,15,16])\n",
        "b=np.array([17,18,19,20])\n",
        "stacked_arr=np.hstack((a,b))\n",
        "print(stacked_arr)"
      ],
      "metadata": {
        "colab": {
          "base_uri": "https://localhost:8080/"
        },
        "id": "ZCgEnT9QI5KP",
        "outputId": "d76fc44c-9595-418d-aa7f-cc75b90c2783"
      },
      "execution_count": 49,
      "outputs": [
        {
          "output_type": "stream",
          "name": "stdout",
          "text": [
            "[12 13 14 15 16 17 18 19 20]\n"
          ]
        }
      ]
    },
    {
      "cell_type": "code",
      "source": [
        "array_6=np.arange(1,17).reshape(4,4)\n",
        "print(array_6)\n",
        "print(\"\\n\")\n",
        "array_7=array_6[0:2,0:2]\n",
        "print (array_7)\n",
        "array_8=array_6[0:2,0:4]\n",
        "print(\"\\n\",array_8)"
      ],
      "metadata": {
        "colab": {
          "base_uri": "https://localhost:8080/"
        },
        "id": "0_xl6qJBLmzI",
        "outputId": "a5f999e4-039c-4c22-ce70-bf34668b701c"
      },
      "execution_count": 50,
      "outputs": [
        {
          "output_type": "stream",
          "name": "stdout",
          "text": [
            "[[ 1  2  3  4]\n",
            " [ 5  6  7  8]\n",
            " [ 9 10 11 12]\n",
            " [13 14 15 16]]\n",
            "\n",
            "\n",
            "[[1 2]\n",
            " [5 6]]\n",
            "\n",
            " [[1 2 3 4]\n",
            " [5 6 7 8]]\n"
          ]
        }
      ]
    },
    {
      "cell_type": "code",
      "source": [
        "array_9=np.arange(1,11)\n",
        "print(\"old array is\",array_9)\n",
        "print(\"\\n\")\n",
        "array_9[array_9/2==2]=0\n",
        "print(array_9)\n",
        "array_9[array_9 % 2==1]=-1\n",
        "print(\"Modified array is\", array_9)\n"
      ],
      "metadata": {
        "colab": {
          "base_uri": "https://localhost:8080/"
        },
        "id": "6E4dBiuLMwgG",
        "outputId": "c8d0a6fd-daea-440e-e628-43b45edb2cda"
      },
      "execution_count": 51,
      "outputs": [
        {
          "output_type": "stream",
          "name": "stdout",
          "text": [
            "old array is [ 1  2  3  4  5  6  7  8  9 10]\n",
            "\n",
            "\n",
            "[ 1  2  3  0  5  6  7  8  9 10]\n",
            "Modified array is [-1  2 -1  0 -1  6 -1  8 -1 10]\n"
          ]
        }
      ]
    },
    {
      "cell_type": "code",
      "source": [
        "arr=np.array([1,0,2,0,3,0,4])\n",
        "print(\"Array is \",arr)\n",
        "indices=np.nonzero(arr)\n",
        "print(indices)\n",
        "print(arr[1])"
      ],
      "metadata": {
        "colab": {
          "base_uri": "https://localhost:8080/"
        },
        "id": "jW8vIBH7P-0u",
        "outputId": "185c26dc-6c07-4a45-93f6-69042e41ca58"
      },
      "execution_count": 52,
      "outputs": [
        {
          "output_type": "stream",
          "name": "stdout",
          "text": [
            "Array is  [1 0 2 0 3 0 4]\n",
            "(array([0, 2, 4, 6]),)\n",
            "0\n"
          ]
        }
      ]
    },
    {
      "cell_type": "markdown",
      "source": [
        "np.nonzero(arr) returns a tuple of indices where elements are non-zero.\n",
        "\n",
        "In this example → (array([0, 2, 4, 6]),) meaning non-zero elements are at positions 0, 2, 4, 6."
      ],
      "metadata": {
        "id": "ZHBq6reeRFPN"
      }
    },
    {
      "cell_type": "code",
      "source": [
        "c=np.array([1,2,3,2,8,4,2,4])\n",
        "d=np.array([2,4,5,6,8])\n",
        "common_items=np.intersect1d(c,d)\n",
        "print(common_items)"
      ],
      "metadata": {
        "colab": {
          "base_uri": "https://localhost:8080/"
        },
        "id": "Qx-aWSaQRI-C",
        "outputId": "01271537-f99e-4c51-ac9f-61fab4a389d4"
      },
      "execution_count": 54,
      "outputs": [
        {
          "output_type": "stream",
          "name": "stdout",
          "text": [
            "[2 4 8]\n"
          ]
        }
      ]
    },
    {
      "cell_type": "markdown",
      "source": [
        "The np.intersect1d() function finds the unique common elements between two arrays and returns them in a sorted 1D array. This is a highly efficient way to perform set-like operations on NumPy arrays."
      ],
      "metadata": {
        "id": "5H4tWCBRSL0z"
      }
    },
    {
      "cell_type": "code",
      "source": [],
      "metadata": {
        "id": "lU7GQzt5SP0d"
      },
      "execution_count": null,
      "outputs": []
    }
  ]
}